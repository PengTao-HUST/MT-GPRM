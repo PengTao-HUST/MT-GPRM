{
 "cells": [
  {
   "cell_type": "code",
   "execution_count": 1,
   "metadata": {},
   "outputs": [],
   "source": [
    "import os\n",
    "import shutil\n",
    "import numpy as np\n",
    "import gpflow as gpf\n",
    "import tensorflow as tf\n",
    "import sklearn.preprocessing as pp"
   ]
  },
  {
   "cell_type": "code",
   "execution_count": 2,
   "metadata": {},
   "outputs": [],
   "source": [
    "import sys\n",
    "sys.path.append('../')\n",
    "\n",
    "import gprmachine as gpm"
   ]
  },
  {
   "cell_type": "markdown",
   "metadata": {},
   "source": [
    "### Typhoon_longitude"
   ]
  },
  {
   "cell_type": "code",
   "execution_count": 3,
   "metadata": {},
   "outputs": [],
   "source": [
    "example = 'Typhoon'\n",
    "target = 0\n",
    "n_start = 0\n",
    "n_train = 47\n",
    "n_test = 30\n",
    "noise_level = 0\n",
    "n_task = 5\n",
    "n_iter = 80\n",
    "k_low_list = [12.0, 12.0, 12.0, 18.0, 18.0, 18.0, 18.0, 18.0, 18.0, 14.0, 8.00,\n",
    "              5.00, 5.00, 4.00, 4.00, 4.00, 4.00, 4.00, 2.00, 2.00, 2.00, 2.00,\n",
    "              2.00, 2.00, 2.00, 2.00, 2.00, 2.00, 2.00, 2.00]\n",
    "k_up_list = [16.0, 16.0, 16.0, 18.0, 20.0, 20.0, 20.0, 20.0, 20.0, 15.0, 14.0,\n",
    "             11.0, 11.0, 11.0, 10.0, 10.0, 10.0, 10.0, 7.00, 7.00, 7.00, 7.00,\n",
    "             8.00, 8.00, 8.00, 8.00, 8.00, 6.00, 6.00, 5.00]"
   ]
  },
  {
   "cell_type": "code",
   "execution_count": 4,
   "metadata": {},
   "outputs": [
    {
     "name": "stdout",
     "output_type": "stream",
     "text": [
      "===========================================================================\n",
      "    >>> Training process is running for group 1 in total of 30 ...\n",
      "    >>> Training process is running for group 2 in total of 30 ...\n",
      "    >>> Training process is running for group 3 in total of 30 ...\n",
      "    >>> Training process is running for group 4 in total of 30 ...\n",
      "    >>> Training process is running for group 5 in total of 30 ...\n",
      "    >>> Training process is running for group 6 in total of 30 ...\n",
      "    >>> Training process is running for group 7 in total of 30 ...\n",
      "    >>> Training process is running for group 8 in total of 30 ...\n",
      "    >>> Training process is running for group 9 in total of 30 ...\n",
      "    >>> Training process is running for group 10 in total of 30 ...\n",
      "    >>> Training process is running for group 11 in total of 30 ...\n",
      "    >>> Training process is running for group 12 in total of 30 ...\n",
      "    >>> Training process is running for group 13 in total of 30 ...\n",
      "    >>> Training process is running for group 14 in total of 30 ...\n",
      "    >>> Training process is running for group 15 in total of 30 ...\n",
      "    >>> Training process is running for group 16 in total of 30 ...\n",
      "    >>> Training process is running for group 17 in total of 30 ...\n",
      "    >>> Training process is running for group 18 in total of 30 ...\n",
      "    >>> Training process is running for group 19 in total of 30 ...\n",
      "    >>> Training process is running for group 20 in total of 30 ...\n",
      "    >>> Training process is running for group 21 in total of 30 ...\n",
      "    >>> Training process is running for group 22 in total of 30 ...\n",
      "    >>> Training process is running for group 23 in total of 30 ...\n",
      "    >>> Training process is running for group 24 in total of 30 ...\n",
      "    >>> Training process is running for group 25 in total of 30 ...\n",
      "    >>> Training process is running for group 26 in total of 30 ...\n",
      "    >>> Training process is running for group 27 in total of 30 ...\n",
      "    >>> Training process is running for group 28 in total of 30 ...\n",
      "    >>> Training process is running for group 29 in total of 30 ...\n",
      "    >>> Training process is running for group 30 in total of 30 ...\n",
      "===========================================================================\n"
     ]
    }
   ],
   "source": [
    "rdata = np.loadtxt('../data/{}.txt'.format(example))\n",
    "\n",
    "rdata_n = rdata + np.random.uniform(0, noise_level, np.shape(rdata))\n",
    "\n",
    "DP = gpm.preprocess.DataProcesser(n_start, n_train, n_test, target)\n",
    "X_train, Y_train, Y_test = DP.load_data(rdata_n)\n",
    "\n",
    "trainer = gpm.train.MultipleTrainer()\n",
    "mean_MU, mean_VAR = trainer.train(\n",
    "    X_train, Y_train, n_test, n_task, n_iter, k_low_list, k_up_list)"
   ]
  },
  {
   "cell_type": "code",
   "execution_count": 6,
   "metadata": {},
   "outputs": [
    {
     "data": {
      "text/plain": [
       "MinMaxScaler(copy=True, feature_range=(0, 1))"
      ]
     },
     "execution_count": 6,
     "metadata": {},
     "output_type": "execute_result"
    }
   ],
   "source": [
    "scaler = pp.MinMaxScaler()\n",
    "X = rdata_n\n",
    "scaler.fit(X[:, target].reshape(-1, 1))"
   ]
  },
  {
   "cell_type": "code",
   "execution_count": 7,
   "metadata": {},
   "outputs": [],
   "source": [
    "Y_pred = mean_MU\n",
    "pred = scaler.inverse_transform(Y_pred.reshape(-1, 1)).ravel()\n",
    "truth = rdata[n_start+n_train : n_start+n_train+n_test, target]\n",
    "known = rdata[n_start : n_start+n_train, target]"
   ]
  },
  {
   "cell_type": "code",
   "execution_count": null,
   "metadata": {},
   "outputs": [],
   "source": [
    "gpm.eval.MAE_RMSE_PCC(truth, pred)"
   ]
  },
  {
   "cell_type": "code",
   "execution_count": 11,
   "metadata": {},
   "outputs": [],
   "source": [
    "import matplotlib.pyplot as plt\n",
    "import seaborn as sns\n",
    "\n",
    "sns.set(context='notebook', style='ticks', font_scale=1.2)\n",
    "plt.rcParams['xtick.direction'] = 'in'\n",
    "plt.rcParams['ytick.direction'] = 'in'\n",
    "plt.rcParams['font.size'] = 15\n",
    "plt.rcParams['font.sans-serif'] = 'Arial'"
   ]
  },
  {
   "cell_type": "code",
   "execution_count": 12,
   "metadata": {},
   "outputs": [
    {
     "data": {
      "image/png": "[encoded data removed]",
      "text/plain": [
       "<Figure size 468x360 with 1 Axes>"
      ]
     },
     "metadata": {},
     "output_type": "display_data"
    }
   ],
   "source": [
    "ax = gpm.plot.plot_prediction(known, truth, pred)\n",
    "ax.set_ylim(100, 125)\n",
    "ax.set_xticks(range(0, 77, 10))\n",
    "ax.set_xticklabels(np.arange(1, 77 + 1, 10))\n",
    "ax.set_xlim(-.5, 77 - .5)\n",
    "ax.set_xlabel('Step')\n",
    "ax.set_ylabel('Coordinate')\n",
    "ax.legend()\n",
    "plt.tight_layout()"
   ]
  },
  {
   "cell_type": "markdown",
   "metadata": {},
   "source": [
    "### Typhoon_latitude"
   ]
  },
  {
   "cell_type": "code",
   "execution_count": 13,
   "metadata": {},
   "outputs": [],
   "source": [
    "example = 'Typhoon'\n",
    "target = 1\n",
    "n_start = 0\n",
    "n_train = 47\n",
    "n_test = 30\n",
    "noise_level = 0\n",
    "n_task = 5\n",
    "n_iter = 80\n",
    "k_low_list = [20.0, 50.0, 50.0, 50.0, 50.0, 50.0, 50.0, 50.0, 50.0, 50.0, 50.0,\n",
    "              50.0, 16.0, 16.0, 16.0, 16.0, 10.0, 10.0, 10.0, 10.0, 10.0, 10.0,\n",
    "              10.0, 10.0, 10.0, 8.0, 2.00, 2.00, 1.50, 1.50]\n",
    "k_up_list = [22.0, 54.0, 54.0, 54.0, 54.0, 54.0, 54.0, 54.0, 54.0, 54.0, 54.0,\n",
    "             54.0, 20.0, 20.0, 20.0, 20.0, 13.0, 13.0, 13.0, 13.0, 13.0, 13.0,\n",
    "             11.0, 11.0, 11.0, 10.0, 4.00, 4.00, 3.50, 3.50]"
   ]
  },
  {
   "cell_type": "code",
   "execution_count": 14,
   "metadata": {},
   "outputs": [
    {
     "name": "stdout",
     "output_type": "stream",
     "text": [
      "===========================================================================\n",
      "    >>> Training process is running for group 1 in total of 30 ...\n",
      "    >>> Training process is running for group 2 in total of 30 ...\n",
      "    >>> Training process is running for group 3 in total of 30 ...\n",
      "    >>> Training process is running for group 4 in total of 30 ...\n",
      "    >>> Training process is running for group 5 in total of 30 ...\n",
      "    >>> Training process is running for group 6 in total of 30 ...\n",
      "    >>> Training process is running for group 7 in total of 30 ...\n",
      "    >>> Training process is running for group 8 in total of 30 ...\n",
      "    >>> Training process is running for group 9 in total of 30 ...\n",
      "    >>> Training process is running for group 10 in total of 30 ...\n",
      "    >>> Training process is running for group 11 in total of 30 ...\n",
      "    >>> Training process is running for group 12 in total of 30 ...\n",
      "    >>> Training process is running for group 13 in total of 30 ...\n",
      "    >>> Training process is running for group 14 in total of 30 ...\n",
      "    >>> Training process is running for group 15 in total of 30 ...\n",
      "    >>> Training process is running for group 16 in total of 30 ...\n",
      "    >>> Training process is running for group 17 in total of 30 ...\n",
      "    >>> Training process is running for group 18 in total of 30 ...\n",
      "    >>> Training process is running for group 19 in total of 30 ...\n",
      "    >>> Training process is running for group 20 in total of 30 ...\n",
      "    >>> Training process is running for group 21 in total of 30 ...\n",
      "    >>> Training process is running for group 22 in total of 30 ...\n",
      "    >>> Training process is running for group 23 in total of 30 ...\n",
      "    >>> Training process is running for group 24 in total of 30 ...\n",
      "    >>> Training process is running for group 25 in total of 30 ...\n",
      "    >>> Training process is running for group 26 in total of 30 ...\n",
      "    >>> Training process is running for group 27 in total of 30 ...\n",
      "    >>> Training process is running for group 28 in total of 30 ...\n",
      "    >>> Training process is running for group 29 in total of 30 ...\n",
      "    >>> Training process is running for group 30 in total of 30 ...\n",
      "===========================================================================\n"
     ]
    }
   ],
   "source": [
    "rdata = np.loadtxt('../data/{}.txt'.format(example))\n",
    "\n",
    "rdata_n = rdata + np.random.uniform(0, noise_level, np.shape(rdata))\n",
    "\n",
    "DP = gpm.preprocess.DataProcesser(n_start, n_train, n_test, target)\n",
    "X_train, Y_train, Y_test = DP.load_data(rdata_n)\n",
    "\n",
    "trainer = gpm.train.MultipleTrainer()\n",
    "mean_MU, mean_VAR = trainer.train(\n",
    "    X_train, Y_train, n_test, n_task, n_iter, k_low_list, k_up_list)"
   ]
  },
  {
   "cell_type": "code",
   "execution_count": 15,
   "metadata": {},
   "outputs": [
    {
     "data": {
      "text/plain": [
       "MinMaxScaler(copy=True, feature_range=(0, 1))"
      ]
     },
     "execution_count": 15,
     "metadata": {},
     "output_type": "execute_result"
    }
   ],
   "source": [
    "scaler = pp.MinMaxScaler()\n",
    "X = rdata_n\n",
    "scaler.fit(X[:, target].reshape(-1, 1))"
   ]
  },
  {
   "cell_type": "code",
   "execution_count": 16,
   "metadata": {},
   "outputs": [],
   "source": [
    "Y_pred = mean_MU\n",
    "pred = scaler.inverse_transform(Y_pred.reshape(-1, 1)).ravel()\n",
    "truth = rdata[n_start+n_train : n_start+n_train+n_test, target]\n",
    "known = rdata[n_start : n_start+n_train, target]"
   ]
  },
  {
   "cell_type": "code",
   "execution_count": 17,
   "metadata": {},
   "outputs": [],
   "source": [
    "res_file = f'{example}_{target+1}_T{n_task}.txt'\n",
    "np.savetxt(res_file, pred)"
   ]
  },
  {
   "cell_type": "code",
   "execution_count": null,
   "metadata": {},
   "outputs": [],
   "source": [
    "gpm.eval.MAE_RMSE_PCC(truth, pred)"
   ]
  },
  {
   "cell_type": "code",
   "execution_count": 19,
   "metadata": {},
   "outputs": [
    {
     "data": {
      "image/png": "[encoded data removed]",
      "text/plain": [
       "<Figure size 468x360 with 1 Axes>"
      ]
     },
     "metadata": {},
     "output_type": "display_data"
    }
   ],
   "source": [
    "ax = gpm.plot.plot_prediction(known, truth, pred)\n",
    "ax.set_ylim(-17, -14)\n",
    "ax.set_xticks(range(0, 77, 10))\n",
    "ax.set_xticklabels(np.arange(1, 77 + 1, 10))\n",
    "ax.set_xlim(-.5, 77 - .5)\n",
    "ax.set_xlabel('Step')\n",
    "ax.set_ylabel('Coordinate')\n",
    "ax.legend()\n",
    "plt.tight_layout()"
   ]
  },
  {
   "cell_type": "code",
   "execution_count": null,
   "metadata": {},
   "outputs": [],
   "source": []
  }
 ],
 "metadata": {
  "kernelspec": {
   "display_name": "Python 3",
   "language": "python",
   "name": "python3"
  },
  "language_info": {
   "codemirror_mode": {
    "name": "ipython",
    "version": 3
   },
   "file_extension": ".py",
   "mimetype": "text/x-python",
   "name": "python",
   "nbconvert_exporter": "python",
   "pygments_lexer": "ipython3",
   "version": "3.7.7"
  }
 },
 "nbformat": 4,
 "nbformat_minor": 4
}
