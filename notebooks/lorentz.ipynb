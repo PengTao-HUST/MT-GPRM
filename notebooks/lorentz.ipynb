{
 "cells": [
  {
   "cell_type": "code",
   "execution_count": 1,
   "metadata": {},
   "outputs": [],
   "source": [
    "import os\n",
    "import shutil\n",
    "import numpy as np\n",
    "import gpflow as gpf\n",
    "import tensorflow as tf\n",
    "import sklearn.preprocessing as pp"
   ]
  },
  {
   "cell_type": "code",
   "execution_count": 2,
   "metadata": {},
   "outputs": [],
   "source": [
    "import sys\n",
    "sys.path.append('../')\n",
    "\n",
    "import gprmachine as gpm"
   ]
  },
  {
   "cell_type": "markdown",
   "metadata": {},
   "source": [
    "### Lorentz_16"
   ]
  },
  {
   "cell_type": "code",
   "execution_count": 3,
   "metadata": {},
   "outputs": [],
   "source": [
    "example = 'Lorentz'\n",
    "target = 15\n",
    "n_start = 0\n",
    "n_train = 30\n",
    "n_test = 25\n",
    "noise_level = 0\n",
    "n_task = 5\n",
    "n_iter = 800\n",
    "k_low_list = [0.95, 0.95, 0.95, 0.95, 0.95, 0.95, 1.15, 1.55, 1.55, 1.55, 1.55,\n",
    "              1.95, 1.95, 1.95, 1.95, 1.95, 1.95, 1.95, 1.85, 1.55, 1.55, 0.35,\n",
    "              0.25, 0.25, 0.25]\n",
    "k_up_list = [3.05, 3.05, 3.05, 2.95, 2.95, 2.95, 2.95, 2.95, 2.95, 2.95, 2.95,\n",
    "             2.95, 2.95, 2.95, 3.09, 3.09, 3.05, 3.05, 3.05, 3.05, 3.05, 3.09,\n",
    "             3.09, 3.05, 3.05]"
   ]
  },
  {
   "cell_type": "code",
   "execution_count": 4,
   "metadata": {},
   "outputs": [],
   "source": [
    "rdata = np.loadtxt('../data/{}.txt'.format(example))"
   ]
  },
  {
   "cell_type": "code",
   "execution_count": 30,
   "metadata": {},
   "outputs": [],
   "source": [
    "rdata_n = rdata + np.random.uniform(0, noise_level, np.shape(rdata))"
   ]
  },
  {
   "cell_type": "code",
   "execution_count": 7,
   "metadata": {},
   "outputs": [],
   "source": [
    "DP = gpm.preprocess.DataProcesser(n_start, n_train, n_test, target)\n",
    "X_train, Y_train, Y_test = DP.load_data(rdata_n)"
   ]
  },
  {
   "cell_type": "code",
   "execution_count": 10,
   "metadata": {},
   "outputs": [],
   "source": [
    "trainer = gpm.train.MultipleTrainer()\n",
    "\n",
    "mu_list, var_list, mean_MU, mean_VAR = trainer.train(\n",
    "    X_train, Y_train, n_test, n_task, n_iter, k_low_list, k_up_list)"
   ]
  },
  {
   "cell_type": "code",
   "execution_count": 12,
   "metadata": {},
   "outputs": [
    {
     "data": {
      "text/plain": [
       "MinMaxScaler(copy=True, feature_range=(0, 1))"
      ]
     },
     "execution_count": 12,
     "metadata": {},
     "output_type": "execute_result"
    }
   ],
   "source": [
    "scaler = pp.MinMaxScaler()\n",
    "X = rdata_n\n",
    "scaler.fit(X[:, target].reshape(-1, 1))"
   ]
  },
  {
   "cell_type": "code",
   "execution_count": 17,
   "metadata": {},
   "outputs": [],
   "source": [
    "Y_pred = mean_MU\n",
    "pred = scaler.inverse_transform(Y_pred.reshape(-1, 1)).ravel()\n",
    "truth = rdata[n_start+n_train : n_start+n_train+n_test, target]\n",
    "known = rdata[n_start : n_start+n_train, target]"
   ]
  },
  {
   "cell_type": "code",
   "execution_count": null,
   "metadata": {},
   "outputs": [],
   "source": [
    "gpm.eval.MAE_RMSE_PCC(truth, pred)"
   ]
  },
  {
   "cell_type": "code",
   "execution_count": 28,
   "metadata": {},
   "outputs": [],
   "source": [
    "import matplotlib.pyplot as plt\n",
    "import seaborn as sns\n",
    "\n",
    "sns.set(context='notebook', style='ticks', font_scale=1.2)\n",
    "plt.rcParams['xtick.direction'] = 'in'\n",
    "plt.rcParams['ytick.direction'] = 'in'\n",
    "plt.rcParams['font.size'] = 15\n",
    "plt.rcParams['font.sans-serif'] = 'Arial'"
   ]
  },
  {
   "cell_type": "code",
   "execution_count": null,
   "metadata": {},
   "outputs": [],
   "source": [
    "train_len = n_train\n",
    "tot_len = n_train + n_test\n",
    "msize=5\n",
    "facecolor = '#EAEEF9'\n",
    "fig, ax = plt.subplots(figsize=(6.5, 5))\n",
    "ax.axvspan(-.5, train_len - .5, facecolor=facecolor, zorder=-1)\n",
    "lines = []\n",
    "\n",
    "l1 = ax.plot(range(train_len), known, marker='o', c='#1D21FB', \n",
    "        ms=msize, label='Known')\n",
    "l2 = ax.plot(range(train_len, tot_len), truth, marker='o', \n",
    "        c='#00F7F0', ms=msize, label='Unknown')\n",
    "l3 = ax.plot(range(train_len, tot_len), pred, marker='d', \n",
    "        c='#F80202', ms=msize*1.2, \n",
    "        #markerfacecolor='none', \n",
    "        label='MT-GPRMachine')\n",
    "ax.set_ylim(-10, 20)\n",
    "ax.set_xticks(range(0, tot_len, 10))\n",
    "ax.set_xticklabels(np.arange(1, tot_len + 1, 10))\n",
    "ax.set_xlim(-.5, tot_len - .5)\n",
    "ax.set_xlabel('Step')\n",
    "ax.set_ylabel('Coordinate')\n",
    "ax.legend()\n",
    "plt.tight_layout()"
   ]
  },
  {
   "cell_type": "markdown",
   "metadata": {},
   "source": [
    "### Lorentz_17"
   ]
  },
  {
   "cell_type": "code",
   "execution_count": 33,
   "metadata": {},
   "outputs": [],
   "source": [
    "example = 'Lorentz'\n",
    "target = 16\n",
    "n_start = 0\n",
    "n_train = 30\n",
    "n_test = 25\n",
    "noise_level = 0\n",
    "n_task = 5\n",
    "n_iter = 30\n",
    "k_low_list = [1.55, 1.55, 1.55, 0.85, 0.15, 0.15, 0.15, 0.15, 0.35, 0.25, 0.15,\n",
    "              0.15, 0.15, 0.25, 0.35, 2.35, 2.55, 2.85, 2.85, 2.85, 0.55, 0.55,\n",
    "              0.95, 0.85, 0.65]\n",
    "k_up_list = [6.25, 6.15, 6.55, 5.65, 3.15, 3.15, 3.15, 3.15, 3.35, 2.25, 2.35,\n",
    "             2.25, 2.25, 2.25, 2.35, 3.35, 3.65, 3.85, 3.85, 3.85, 1.55, 1.55,\n",
    "             1.95, 1.85, 1.65]"
   ]
  },
  {
   "cell_type": "code",
   "execution_count": 34,
   "metadata": {},
   "outputs": [],
   "source": [
    "rdata = np.loadtxt('../data/{}.txt'.format(example))"
   ]
  },
  {
   "cell_type": "code",
   "execution_count": 35,
   "metadata": {},
   "outputs": [],
   "source": [
    "rdata_n = rdata + np.random.uniform(0, noise_level, np.shape(rdata))"
   ]
  },
  {
   "cell_type": "code",
   "execution_count": 38,
   "metadata": {},
   "outputs": [],
   "source": [
    "DP = gpm.preprocess.DataProcesser(n_start, n_train, n_test, target)\n",
    "X_train, Y_train, Y_test = DP.load_data(rdata_n)"
   ]
  },
  {
   "cell_type": "code",
   "execution_count": 39,
   "metadata": {},
   "outputs": [
    {
     "name": "stdout",
     "output_type": "stream",
     "text": [
      "===========================================================================\n",
      "    >>> Training process is running for group 1 in total of 25 ...\n",
      "    >>> Training process is running for group 2 in total of 25 ...\n",
      "    >>> Training process is running for group 3 in total of 25 ...\n",
      "    >>> Training process is running for group 4 in total of 25 ...\n",
      "    >>> Training process is running for group 5 in total of 25 ...\n",
      "    >>> Training process is running for group 6 in total of 25 ...\n",
      "    >>> Training process is running for group 7 in total of 25 ...\n",
      "    >>> Training process is running for group 8 in total of 25 ...\n",
      "    >>> Training process is running for group 9 in total of 25 ...\n",
      "    >>> Training process is running for group 10 in total of 25 ...\n",
      "    >>> Training process is running for group 11 in total of 25 ...\n",
      "    >>> Training process is running for group 12 in total of 25 ...\n",
      "    >>> Training process is running for group 13 in total of 25 ...\n",
      "    >>> Training process is running for group 14 in total of 25 ...\n",
      "    >>> Training process is running for group 15 in total of 25 ...\n",
      "    >>> Training process is running for group 16 in total of 25 ...\n",
      "    >>> Training process is running for group 17 in total of 25 ...\n",
      "    >>> Training process is running for group 18 in total of 25 ...\n",
      "    >>> Training process is running for group 19 in total of 25 ...\n",
      "    >>> Training process is running for group 20 in total of 25 ...\n",
      "    >>> Training process is running for group 21 in total of 25 ...\n",
      "    >>> Training process is running for group 22 in total of 25 ...\n",
      "    >>> Training process is running for group 23 in total of 25 ...\n",
      "    >>> Training process is running for group 24 in total of 25 ...\n",
      "    >>> Training process is running for group 25 in total of 25 ...\n",
      "===========================================================================\n"
     ]
    }
   ],
   "source": [
    "trainer = gpm.train.MultipleTrainer()\n",
    "\n",
    "mu_list, var_list, mean_MU, mean_VAR = trainer.train(\n",
    "    X_train, Y_train, n_test, n_task, n_iter, k_low_list, k_up_list)"
   ]
  },
  {
   "cell_type": "code",
   "execution_count": 40,
   "metadata": {},
   "outputs": [
    {
     "data": {
      "text/plain": [
       "MinMaxScaler(copy=True, feature_range=(0, 1))"
      ]
     },
     "execution_count": 40,
     "metadata": {},
     "output_type": "execute_result"
    }
   ],
   "source": [
    "scaler = pp.MinMaxScaler()\n",
    "X = rdata_n\n",
    "scaler.fit(X[:, target].reshape(-1, 1))"
   ]
  },
  {
   "cell_type": "code",
   "execution_count": 41,
   "metadata": {},
   "outputs": [],
   "source": [
    "Y_pred = mean_MU\n",
    "pred = scaler.inverse_transform(Y_pred.reshape(-1, 1)).ravel()\n",
    "truth = rdata[n_start+n_train : n_start+n_train+n_test, target]\n",
    "known = rdata[n_start : n_start+n_train, target]"
   ]
  },
  {
   "cell_type": "code",
   "execution_count": null,
   "metadata": {},
   "outputs": [],
   "source": [
    "gpm.eval.MAE_RMSE_PCC(truth, pred)"
   ]
  },
  {
   "cell_type": "code",
   "execution_count": 43,
   "metadata": {},
   "outputs": [
    {
     "data": {
      "image/png": "[encoded data removed]",
      "text/plain": [
       "<Figure size 468x360 with 1 Axes>"
      ]
     },
     "metadata": {},
     "output_type": "display_data"
    }
   ],
   "source": [
    "train_len = n_train\n",
    "tot_len = n_train + n_test\n",
    "msize=5\n",
    "facecolor = '#EAEEF9'\n",
    "fig, ax = plt.subplots(figsize=(6.5, 5))\n",
    "ax.axvspan(-.5, train_len - .5, facecolor=facecolor, zorder=-1)\n",
    "lines = []\n",
    "\n",
    "l1 = ax.plot(range(train_len), known, marker='o', c='#1D21FB', \n",
    "        ms=msize, label='Known')\n",
    "l2 = ax.plot(range(train_len, tot_len), truth, marker='o', \n",
    "        c='#00F7F0', ms=msize, label='Unknown')\n",
    "l3 = ax.plot(range(train_len, tot_len), pred, marker='d', \n",
    "        c='#F80202', ms=msize*1.2, \n",
    "        #markerfacecolor='none', \n",
    "        label='MT-GPRMachine')\n",
    "ax.set_ylim(-10, 25)\n",
    "ax.set_xticks(range(0, tot_len, 10))\n",
    "ax.set_xticklabels(np.arange(1, tot_len + 1, 10))\n",
    "ax.set_xlim(-.5, tot_len - .5)\n",
    "ax.set_xlabel('Step')\n",
    "ax.set_ylabel('Coordinate')\n",
    "ax.legend()\n",
    "plt.tight_layout()"
   ]
  },
  {
   "cell_type": "markdown",
   "metadata": {},
   "source": [
    "### Lorentz_18"
   ]
  },
  {
   "cell_type": "code",
   "execution_count": 45,
   "metadata": {},
   "outputs": [],
   "source": [
    "example = 'Lorentz'\n",
    "target = 17\n",
    "n_start = 0\n",
    "n_train = 30\n",
    "n_test = 25\n",
    "noise_level = 0\n",
    "n_task = 5\n",
    "n_iter = 1000\n",
    "k_low_list = [1.55, 1.55, 1.55, 1.55, 1.55, 1.55, 1.55, 1.55, 1.55, 1.55, 1.55,\n",
    "              1.55, 1.55, 1.55, 1.55, 1.55, 1.55, 1.55, 1.55, 1.55, 5.25, 5.25,\n",
    "              3.25, 3.25, 3.25]\n",
    "k_up_list = [3.55, 3.55, 3.55, 3.55, 3.55, 3.55, 3.55, 3.55, 3.55, 3.55, 3.55,\n",
    "             3.55, 3.55, 3.55, 3.55, 3.55, 3.55, 3.55, 3.55, 3.55, 6.55, 6.55,\n",
    "             4.55, 4.55, 4.55]"
   ]
  },
  {
   "cell_type": "code",
   "execution_count": 46,
   "metadata": {},
   "outputs": [],
   "source": [
    "rdata = np.loadtxt('../data/{}.txt'.format(example))"
   ]
  },
  {
   "cell_type": "code",
   "execution_count": 47,
   "metadata": {},
   "outputs": [],
   "source": [
    "rdata_n = rdata + np.random.uniform(0, noise_level, np.shape(rdata))"
   ]
  },
  {
   "cell_type": "code",
   "execution_count": 48,
   "metadata": {},
   "outputs": [],
   "source": [
    "DP = gpm.preprocess.DataProcesser(n_start, n_train, n_test, target)\n",
    "X_train, Y_train, Y_test = DP.load_data(rdata_n)"
   ]
  },
  {
   "cell_type": "code",
   "execution_count": 49,
   "metadata": {},
   "outputs": [
    {
     "name": "stdout",
     "output_type": "stream",
     "text": [
      "===========================================================================\n",
      "    >>> Training process is running for group 1 in total of 25 ...\n",
      "    >>> Training process is running for group 2 in total of 25 ...\n",
      "    >>> Training process is running for group 3 in total of 25 ...\n",
      "    >>> Training process is running for group 4 in total of 25 ...\n",
      "    >>> Training process is running for group 5 in total of 25 ...\n",
      "    >>> Training process is running for group 6 in total of 25 ...\n",
      "    >>> Training process is running for group 7 in total of 25 ...\n",
      "    >>> Training process is running for group 8 in total of 25 ...\n",
      "    >>> Training process is running for group 9 in total of 25 ...\n",
      "    >>> Training process is running for group 10 in total of 25 ...\n",
      "    >>> Training process is running for group 11 in total of 25 ...\n",
      "    >>> Training process is running for group 12 in total of 25 ...\n",
      "    >>> Training process is running for group 13 in total of 25 ...\n",
      "    >>> Training process is running for group 14 in total of 25 ...\n",
      "    >>> Training process is running for group 15 in total of 25 ...\n",
      "    >>> Training process is running for group 16 in total of 25 ...\n",
      "    >>> Training process is running for group 17 in total of 25 ...\n",
      "    >>> Training process is running for group 18 in total of 25 ...\n",
      "    >>> Training process is running for group 19 in total of 25 ...\n",
      "    >>> Training process is running for group 20 in total of 25 ...\n",
      "    >>> Training process is running for group 21 in total of 25 ...\n",
      "    >>> Training process is running for group 22 in total of 25 ...\n",
      "    >>> Training process is running for group 23 in total of 25 ...\n",
      "    >>> Training process is running for group 24 in total of 25 ...\n",
      "    >>> Training process is running for group 25 in total of 25 ...\n",
      "===========================================================================\n"
     ]
    }
   ],
   "source": [
    "trainer = gpm.train.MultipleTrainer()\n",
    "\n",
    "mu_list, var_list, mean_MU, mean_VAR = trainer.train(\n",
    "    X_train, Y_train, n_test, n_task, n_iter, k_low_list, k_up_list)"
   ]
  },
  {
   "cell_type": "code",
   "execution_count": 50,
   "metadata": {},
   "outputs": [
    {
     "data": {
      "text/plain": [
       "MinMaxScaler(copy=True, feature_range=(0, 1))"
      ]
     },
     "execution_count": 50,
     "metadata": {},
     "output_type": "execute_result"
    }
   ],
   "source": [
    "scaler = pp.MinMaxScaler()\n",
    "X = rdata_n\n",
    "scaler.fit(X[:, target].reshape(-1, 1))"
   ]
  },
  {
   "cell_type": "code",
   "execution_count": 51,
   "metadata": {},
   "outputs": [],
   "source": [
    "Y_pred = mean_MU\n",
    "pred = scaler.inverse_transform(Y_pred.reshape(-1, 1)).ravel()\n",
    "truth = rdata[n_start+n_train : n_start+n_train+n_test, target]\n",
    "known = rdata[n_start : n_start+n_train, target]"
   ]
  },
  {
   "cell_type": "code",
   "execution_count": null,
   "metadata": {},
   "outputs": [],
   "source": [
    "gpm.eval.MAE_RMSE_PCC(truth, pred)"
   ]
  },
  {
   "cell_type": "code",
   "execution_count": null,
   "metadata": {},
   "outputs": [],
   "source": [
    "train_len = n_train\n",
    "tot_len = n_train + n_test\n",
    "msize=5\n",
    "facecolor = '#EAEEF9'\n",
    "fig, ax = plt.subplots(figsize=(6.5, 5))\n",
    "ax.axvspan(-.5, train_len - .5, facecolor=facecolor, zorder=-1)\n",
    "lines = []\n",
    "\n",
    "l1 = ax.plot(range(train_len), known, marker='o', c='#1D21FB', \n",
    "        ms=msize, label='Known')\n",
    "l2 = ax.plot(range(train_len, tot_len), truth, marker='o', \n",
    "        c='#00F7F0', ms=msize, label='Unknown')\n",
    "l3 = ax.plot(range(train_len, tot_len), pred, marker='d', \n",
    "        c='#F80202', ms=msize*1.2, \n",
    "        #markerfacecolor='none', \n",
    "        label='MT-GPRMachine')\n",
    "ax.set_ylim(5, 45)\n",
    "ax.set_xticks(range(0, tot_len, 10))\n",
    "ax.set_xticklabels(np.arange(1, tot_len + 1, 10))\n",
    "ax.set_xlim(-.5, tot_len - .5)\n",
    "ax.set_xlabel('Step')\n",
    "ax.set_ylabel('Coordinate')\n",
    "ax.legend()\n",
    "plt.tight_layout()"
   ]
  },
  {
   "cell_type": "code",
   "execution_count": null,
   "metadata": {},
   "outputs": [],
   "source": []
  }
 ],
 "metadata": {
  "kernelspec": {
   "display_name": "Python 3",
   "language": "python",
   "name": "python3"
  },
  "language_info": {
   "codemirror_mode": {
    "name": "ipython",
    "version": 3
   },
   "file_extension": ".py",
   "mimetype": "text/x-python",
   "name": "python",
   "nbconvert_exporter": "python",
   "pygments_lexer": "ipython3",
   "version": "3.7.7"
  }
 },
 "nbformat": 4,
 "nbformat_minor": 4
}
